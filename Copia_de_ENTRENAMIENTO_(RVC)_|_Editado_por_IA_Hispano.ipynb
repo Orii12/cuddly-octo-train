{
  "nbformat": 4,
  "nbformat_minor": 0,
  "metadata": {
    "colab": {
      "provenance": [],
      "gpuType": "T4",
      "include_colab_link": true
    },
    "kernelspec": {
      "name": "python3",
      "display_name": "Python 3"
    },
    "language_info": {
      "name": "python"
    },
    "gpuClass": "standard",
    "accelerator": "GPU"
  },
  "cells": [
    {
      "cell_type": "markdown",
      "metadata": {
        "id": "view-in-github",
        "colab_type": "text"
      },
      "source": [
        "<a href=\"https://colab.research.google.com/github/Orii12/cuddly-octo-train/blob/main/Copia_de_ENTRENAMIENTO_(RVC)_%7C_Editado_por_IA_Hispano.ipynb\" target=\"_parent\"><img src=\"https://colab.research.google.com/assets/colab-badge.svg\" alt=\"Open In Colab\"/></a>"
      ]
    },
    {
      "cell_type": "code",
      "execution_count": null,
      "metadata": {
        "id": "GmFP6bN9dvOq",
        "cellView": "form"
      },
      "outputs": [],
      "source": [
        "#@title [PASO 1] Revisar GPU \n",
        "!nvidia-smi"
      ]
    },
    {
      "cell_type": "code",
      "source": [
        "#@title [PASO 2] Instalar dependencias\n",
        "!apt-get -y install build-essential python3-dev ffmpeg\n",
        "!pip3 install --upgrade setuptools wheel\n",
        "!pip3 install --upgrade pip\n",
        "!pip3 install faiss-gpu fairseq gradio ffmpeg ffmpeg-python praat-parselmouth pyworld numpy==1.23.5 numba==0.56.4 librosa==0.9.2\n",
        "!apt -y install -qq aria2\n",
        "!pip install mega.py --quiet\n",
        "!pip install gdown --quiet\n",
        "import ipywidgets as widgets\n",
        "from IPython.display import clear_output\n",
        "import os, shutil\n",
        "clear_output()\n",
        "success=widgets.Button(description=\"\\u2714 Listo!\",disabled=True, button_style=\"success\")"
      ],
      "metadata": {
        "id": "wjddIFr1oS3W",
        "cellView": "form"
      },
      "execution_count": null,
      "outputs": []
    },
    {
      "cell_type": "code",
      "source": [
        "#@title [PASO 3] Clonar repositorio de GitHub\n",
        "#%cd /content/\n",
        "#!git clone https://github.com/fumiama/Retrieval-based-Voice-Conversion-WebUI\n",
        "#%cd /content/Retrieval-based-Voice-Conversion-WebUI\n",
        "#!mkdir -p pretrained uvr5_weights\n",
        "#!git pull\n",
        "\n",
        "%cd /content/\n",
        "!wget https://github.com/kalomaze/Retrieval-based-Voice-Conversion-WebUI/releases/download/20230428updated/updated20230428.zip\n",
        "!mkdir /content/Retrieval-based-Voice-Conversion-WebUI\n",
        "!unzip -d /content/Retrieval-based-Voice-Conversion-WebUI -b updated20230428.zip\n",
        "!rm updated20230428.zip\n",
        "%cd /content/Retrieval-based-Voice-Conversion-WebUI\n",
        "!wget https://raw.githubusercontent.com/777gt/EVC/main/easy-infer.py\n",
        "!mkdir -p pretrained uvr5_weights\n",
        "\n",
        "clear_output()\n",
        "display(success)"
      ],
      "metadata": {
        "id": "ge_97mfpgqTm",
        "cellView": "form"
      },
      "execution_count": null,
      "outputs": []
    },
    {
      "cell_type": "code",
      "source": [
        "#@title  [PASO 4] Descargar modelo base\n",
        "!aria2c --console-log-level=error -c -x 16 -s 16 -k 1M https://huggingface.co/lj1995/VoiceConversionWebUI/resolve/main/pretrained/D32k.pth -d /content/Retrieval-based-Voice-Conversion-WebUI/pretrained -o D32k.pth\n",
        "!aria2c --console-log-level=error -c -x 16 -s 16 -k 1M https://huggingface.co/lj1995/VoiceConversionWebUI/resolve/main/pretrained/D40k.pth -d /content/Retrieval-based-Voice-Conversion-WebUI/pretrained -o D40k.pth\n",
        "!aria2c --console-log-level=error -c -x 16 -s 16 -k 1M https://huggingface.co/lj1995/VoiceConversionWebUI/resolve/main/pretrained/D48k.pth -d /content/Retrieval-based-Voice-Conversion-WebUI/pretrained -o D48k.pth\n",
        "!aria2c --console-log-level=error -c -x 16 -s 16 -k 1M https://huggingface.co/lj1995/VoiceConversionWebUI/resolve/main/pretrained/G32k.pth -d /content/Retrieval-based-Voice-Conversion-WebUI/pretrained -o G32k.pth\n",
        "!aria2c --console-log-level=error -c -x 16 -s 16 -k 1M https://huggingface.co/lj1995/VoiceConversionWebUI/resolve/main/pretrained/G40k.pth -d /content/Retrieval-based-Voice-Conversion-WebUI/pretrained -o G40k.pth\n",
        "!aria2c --console-log-level=error -c -x 16 -s 16 -k 1M https://huggingface.co/lj1995/VoiceConversionWebUI/resolve/main/pretrained/G48k.pth -d /content/Retrieval-based-Voice-Conversion-WebUI/pretrained -o G48k.pth\n",
        "!aria2c --console-log-level=error -c -x 16 -s 16 -k 1M https://huggingface.co/lj1995/VoiceConversionWebUI/resolve/main/pretrained/f0D32k.pth -d /content/Retrieval-based-Voice-Conversion-WebUI/pretrained -o f0D32k.pth\n",
        "!aria2c --console-log-level=error -c -x 16 -s 16 -k 1M https://huggingface.co/lj1995/VoiceConversionWebUI/resolve/main/pretrained/f0D40k.pth -d /content/Retrieval-based-Voice-Conversion-WebUI/pretrained -o f0D40k.pth\n",
        "!aria2c --console-log-level=error -c -x 16 -s 16 -k 1M https://huggingface.co/lj1995/VoiceConversionWebUI/resolve/main/pretrained/f0D48k.pth -d /content/Retrieval-based-Voice-Conversion-WebUI/pretrained -o f0D48k.pth\n",
        "!aria2c --console-log-level=error -c -x 16 -s 16 -k 1M https://huggingface.co/lj1995/VoiceConversionWebUI/resolve/main/pretrained/f0G32k.pth -d /content/Retrieval-based-Voice-Conversion-WebUI/pretrained -o f0G32k.pth\n",
        "!aria2c --console-log-level=error -c -x 16 -s 16 -k 1M https://huggingface.co/lj1995/VoiceConversionWebUI/resolve/main/pretrained/f0G40k.pth -d /content/Retrieval-based-Voice-Conversion-WebUI/pretrained -o f0G40k.pth\n",
        "!aria2c --console-log-level=error -c -x 16 -s 16 -k 1M https://huggingface.co/lj1995/VoiceConversionWebUI/resolve/main/pretrained/f0G48k.pth -d /content/Retrieval-based-Voice-Conversion-WebUI/pretrained -o f0G48k.pth\n",
        "\n",
        "!aria2c --console-log-level=error -c -x 16 -s 16 -k 1M https://huggingface.co/lj1995/VoiceConversionWebUI/resolve/main/uvr5_weights/HP2-人声vocals+非人声instrumentals.pth -d /content/Retrieval-based-Voice-Conversion-WebUI/uvr5_weights -o HP2-人声vocals+非人声instrumentals.pth\n",
        "!aria2c --console-log-level=error -c -x 16 -s 16 -k 1M https://huggingface.co/lj1995/VoiceConversionWebUI/resolve/main/uvr5_weights/HP5-主旋律人声vocals+其他instrumentals.pth -d /content/Retrieval-based-Voice-Conversion-WebUI/uvr5_weights -o HP5-主旋律人声vocals+其他instrumentals.pth\n",
        "\n",
        "!aria2c --console-log-level=error -c -x 16 -s 16 -k 1M https://huggingface.co/lj1995/VoiceConversionWebUI/resolve/main/hubert_base.pt -d /content/Retrieval-based-Voice-Conversion-WebUI -o hubert_base.pt\n",
        "clear_output()\n",
        "display(success)"
      ],
      "metadata": {
        "id": "UG3XpUwEomUz",
        "cellView": "form"
      },
      "execution_count": null,
      "outputs": []
    },
    {
      "cell_type": "code",
      "source": [
        "#@title [PASO 5] Esto creará una carpeta RVC y dataset en tu drive si no existen ya.\n",
        "from google.colab import drive\n",
        "drive.mount('/content/drive', force_remount=True)\n",
        "!mkdir -p /content/drive/MyDrive/RVC\n",
        "!mkdir -p /content/drive/MyDrive/dataset\n",
        "!mkdir -p /content/EasyDataset\n",
        "clear_output()\n",
        "display(success)"
      ],
      "metadata": {
        "id": "jwu07JgqoFON",
        "cellView": "form"
      },
      "execution_count": null,
      "outputs": []
    },
    {
      "cell_type": "code",
      "source": [
        "%cd /content\n",
        "#@markdown ##Inicia esto si quieres cargar un modelo\n",
        "from mega import Mega\n",
        "import os\n",
        "#@markdown Nombre del modelo:\n",
        "MODELNAME = \"Introduce el nombre del modelo...\"  #@param {type:\"string\"}\n",
        "MODELEPOCH = ''\n",
        "#@markdown Si quieres cargar el modelo desde un link ponlo aquí:\n",
        "url='Introduce el enlace del modelo...'#@param {type:\"string\"}\n",
        "MODELZIP = MODELNAME + '.zip'\n",
        "modelname_path='/content/zips/'+MODELZIP\n",
        "!mkdir -p /content/unzips\n",
        "!mkdir -p /content/Retrieval-based-Voice-Conversion-WebUI/logs/{MODELNAME}\n",
        "if url != '':\n",
        "  !mkdir -p /content/zips/\n",
        "  if \"drive.google.com\" in url:\n",
        "    !gdown $url --fuzzy -O $modelname_path\n",
        "  elif \"mega.nz\" in url:\n",
        "    m = Mega()\n",
        "    m.download_url(url, '/content/zips')\n",
        "  else:\n",
        "    !wget $url -O /content/zips/{MODELZIP}\n",
        "  !unzip -d /content/unzips/ -B /content/zips/{MODELNAME}.zip\n",
        "  for root, dirs, files in os.walk('/content/unzips'):\n",
        "    for file in files:\n",
        "      if \"G_\" in file:\n",
        "        MODELEPOCH = file.split(\"G_\")[1].split(\".\")[0]\n",
        "    if MODELEPOCH == '':\n",
        "      MODELEPOCH = '404'\n",
        "    for file in files:\n",
        "      file_path = os.path.join(root, file)\n",
        "      if file.endswith(\".index\"):\n",
        "        !mv {file_path} /content/Retrieval-based-Voice-Conversion-WebUI/logs/{MODELNAME}/\n",
        "      elif \"G_\" in file:\n",
        "        !mv {file_path} /content/Retrieval-based-Voice-Conversion-WebUI/logs/{MODELNAME}/G_{MODELEPOCH}.pth\n",
        "      elif \"D_\" in file:\n",
        "        !mv {file_path} /content/Retrieval-based-Voice-Conversion-WebUI/logs/{MODELNAME}/D_{MODELEPOCH}.pth\n",
        "      elif \"G_\" not in file and \"D_\" not in file and file.endswith(\".pth\"):\n",
        "        !mv {file_path} /content/Retrieval-based-Voice-Conversion-WebUI/weights/{MODELNAME}.pth\n",
        "else:\n",
        "  #if url is empty, load from RVC folder.\n",
        "  if not os.path.exists(f'/content/drive/MyDrive/RVC/{MODELNAME}.zip'):\n",
        "    raise Exception('There is no such file in your RVC folder.')\n",
        "  !unzip -d /content/unzips/ -B /content/drive/MyDrive/RVC/{MODELNAME}.zip\n",
        "  for root, dirs, files in os.walk('/content/unzips'):\n",
        "    for file in files:\n",
        "      if \"G_\" in file:\n",
        "        MODELEPOCH = file.split(\"G_\")[1].split(\".\")[0]\n",
        "    if MODELEPOCH == '':\n",
        "      MODELEPOCH = '404'\n",
        "    for file in files:\n",
        "      file_path = os.path.join(root, file)\n",
        "      if file.endswith(\".npy\") or file.endswith(\".index\"):\n",
        "        !mv {file_path} /content/Retrieval-based-Voice-Conversion-WebUI/logs/{MODELNAME}/\n",
        "      elif \"G_\" in file:\n",
        "        !mv {file_path} /content/Retrieval-based-Voice-Conversion-WebUI/logs/{MODELNAME}/G_{MODELEPOCH}.pth\n",
        "      elif \"D_\" in file:\n",
        "        !mv {file_path} /content/Retrieval-based-Voice-Conversion-WebUI/logs/{MODELNAME}/D_{MODELEPOCH}.pth\n",
        "      elif \"G_\" not in file and \"D_\" not in file and file.endswith(\".pth\"):\n",
        "        !mv {file_path} /content/Retrieval-based-Voice-Conversion-WebUI/weights/{MODELNAME}.pth\n",
        "  for folder in os.listdir('/content/unzips'):\n",
        "    if folder != MODELNAME:\n",
        "      !cp -r {os.path.join('/content/unzips',folder)} /content/Retrieval-based-Voice-Conversion-WebUI\n",
        "!rm -r /content/unzips/\n",
        "!rm -r /content/zips/\n",
        "clear_output()\n",
        "display(success)"
      ],
      "metadata": {
        "id": "OVQoLQJXS7WX",
        "cellView": "form"
      },
      "execution_count": null,
      "outputs": []
    },
    {
      "cell_type": "code",
      "source": [
        "#@title [PASO 6] Haz clic aquí para cargar un dataset en su lugar\n",
        "DATASET = \"Introduce el nombre del dataset y .zip. (Ejemplo: duki_dataset.zip)\"  #@param {type:\"string\"}\n",
        "#@markdown Esto buscará ese zip dentro de tu carpeta 'dataset' en google drive.\n",
        "dataset_path = '/content/drive/MyDrive/dataset/' + DATASET\n",
        "import os\n",
        "if not os.path.exists(dataset_path):\n",
        "  raise Exception(f'There is no {DATASET} in {os.path.dirname(dataset_path)}')\n",
        "!mkdir -p /content/dataset\n",
        "!unzip -d /content/dataset -B {dataset_path}\n",
        "!ls -a /content/dataset/\n",
        "!rename 's/(\\w+)\\.(\\w+)~(\\d*)/$1_$3.$2/' /content/dataset/*.*~*\n",
        "clear_output()\n",
        "display(success)"
      ],
      "metadata": {
        "id": "Mwk7Q0Loqzjx",
        "cellView": "form"
      },
      "execution_count": null,
      "outputs": []
    },
    {
      "cell_type": "code",
      "source": [
        "#@title [PASO 7] Haz clic aquí para iniciar la interfaz\n",
        "%cd /content/Retrieval-based-Voice-Conversion-WebUI\n",
        "!python3 infer-web.py --colab --pycmd python3"
      ],
      "metadata": {
        "id": "7vh6vphDwO0b",
        "cellView": "form"
      },
      "execution_count": null,
      "outputs": []
    },
    {
      "cell_type": "code",
      "source": [
        "#@title [PASO 8] Guardar modelo\n",
        "save_big_file=True#@param {type:\"boolean\"}\n",
        "#@markdown Escribe el nombre del modelo y los pasos. Puedes encontrarlo en el registro de tu modelo.\n",
        "%cd /content\n",
        "import shutil, os\n",
        "MODELNAME = \"Introduce el nombre de tu modelo...\"  #@param {type:\"string\"}\n",
        "\n",
        "if os.path.exists('/content/zips'):\n",
        "  shutil.rmtree('/content/zips')\n",
        "print('Removed zips.')\n",
        "!mkdir -p /content/zips/{MODELNAME}/\n",
        "print('Created zips.')\n",
        "if f\"{MODELNAME}.pth\" not in os.listdir(f'/content/Retrieval-based-Voice-Conversion-WebUI/weights'):\n",
        "  print('There is no weight file with that name')\n",
        "if not save_big_file:\n",
        "  !cp /content/Retrieval-based-Voice-Conversion-WebUI/logs/{MODELNAME}/added_*.index /content/zips/{MODELNAME}/\n",
        "  !cp /content/Retrieval-based-Voice-Conversion-WebUI/logs/{MODELNAME}/total_*.npy /content/zips/{MODELNAME}/\n",
        "  !cp /content/Retrieval-based-Voice-Conversion-WebUI/weights/{MODELNAME}.pth /content/zips/{MODELNAME}/{MODELNAME}{MODELEPOCH}.pth\n",
        "  %cd /content/zips\n",
        "  !zip -r {MODELNAME}.zip {MODELNAME}\n",
        "if save_big_file:\n",
        "  %cd /content/Retrieval-based-Voice-Conversion-WebUI\n",
        "  latest_steps = -1\n",
        "  logs_folder = './logs/' + MODELNAME \n",
        "  for filename in os.listdir(logs_folder):#get the latest g and d files\n",
        "    if filename.startswith('G_') and filename.endswith('.pth'):\n",
        "      steps = int(filename.split('_')[1].split('.')[0])\n",
        "      if steps > latest_steps:\n",
        "        latest_steps = steps\n",
        "  MODELZIP = MODELNAME + '.zip'\n",
        "  !mkdir -p /content/zips\n",
        "  ZIPFILEPATH = os.path.join('/content/zips', MODELZIP)\n",
        "  for filename in os.listdir(logs_folder):\n",
        "    if 'G_' in filename or 'D_' in filename:\n",
        "      if str(latest_steps) in filename:\n",
        "        !zip -r {ZIPFILEPATH} {os.path.join(logs_folder, filename)}\n",
        "    else:\n",
        "      !zip -r {ZIPFILEPATH} {os.path.join(logs_folder, filename)}\n",
        "  for filename in os.listdir('./weights'):\n",
        "    if MODELNAME in filename:\n",
        "      !zip -r {ZIPFILEPATH} {os.path.join('./weights/', filename)}\n",
        "      \n",
        "!mkdir -p /content/drive/MyDrive/RVC/\n",
        "shutil.move(f'/content/zips/{MODELNAME}.zip',f'/content/drive/MyDrive/RVC/{MODELNAME}.zip')\n",
        "%cd /content\n",
        "shutil.rmtree(\"/content/zips\")\n",
        "display(success)"
      ],
      "metadata": {
        "cellView": "form",
        "id": "POuTKzt8gZmF"
      },
      "execution_count": null,
      "outputs": []
    }
  ]
}